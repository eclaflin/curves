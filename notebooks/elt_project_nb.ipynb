{
 "cells": [
  {
   "metadata": {},
   "cell_type": "markdown",
   "source": [
    "## Objective:\n",
    "\n",
    "### 1. Extract All Play-by-Play Data\n",
    "\n",
    "- Identify how to pull play-by-play data for all events on a given day\n",
    "- Identify how to pull (or feed) all valid dates\n",
    "- Iterate through valid dates and return play-by-play resultset\n"
   ],
   "id": "6b2cad2022ce26a9"
  },
  {
   "metadata": {},
   "cell_type": "markdown",
   "source": [
    "#### Play-by-Play Data\n",
    "\n",
    "- `statcast_single_game` [module](https://github.com/jldbc/pybaseball/blob/master/docs/statcast_single_game.md) retrieves all statcast records from a given `game_pk`\n",
    "- `statcast` (module)[https://github.com/jldbc/pybaseball/blob/master/docs/statcast.md retrieves all statcast data for a given ***date range***, with inputs:\n",
    "> `statcast(start_dt=[yesterday's date], end_dt=None, team=None, verbose=True, parallel=True)`\n",
    "\n",
    "Open question as to retrieval of dim tables, but as a raw pitch-level should suffice\n",
    "\n",
    "> [!WARNING]\n",
    "> Statcast data only goes back as far as 2008\n",
    "> Will need an alternative solution for all-time\n"
   ],
   "id": "c46c80692280cb47"
  },
  {
   "metadata": {
    "ExecuteTime": {
     "end_time": "2024-06-25T01:19:14.656478Z",
     "start_time": "2024-06-25T01:19:10.987244Z"
    }
   },
   "cell_type": "code",
   "source": [
    "from pybaseball import statcast\n",
    "from datetime import date, timedelta\n",
    "\n",
    "curr_date = date.today()\n",
    "bgn_date = curr_date - timedelta(days=3)\n",
    "\n",
    "date_fmt = '%Y-%m-%d' \n",
    "\n",
    "\n",
    "data = statcast(\n",
    "    start_dt=bgn_date.strftime(date_fmt),\n",
    "    end_dt=curr_date.strftime(date_fmt)\n",
    ")\n",
    "\n",
    "data.head()"
   ],
   "id": "cff049de390b4184",
   "outputs": [
    {
     "name": "stdout",
     "output_type": "stream",
     "text": [
      "This is a large query, it may take a moment to complete\n"
     ]
    },
    {
     "name": "stderr",
     "output_type": "stream",
     "text": [
      " 25%|██▌       | 1/4 [00:00<00:00,  5.30it/s]/Users/ericclaflin/dev/curves/venv/lib/python3.9/site-packages/pybaseball/datahelpers/postprocessing.py:59: FutureWarning: errors='ignore' is deprecated and will raise in a future version. Use to_datetime without passing `errors` and catch exceptions explicitly instead\n",
      "  data_copy[column] = data_copy[column].apply(pd.to_datetime, errors='ignore', format=date_format)\n",
      "/Users/ericclaflin/dev/curves/venv/lib/python3.9/site-packages/pybaseball/datahelpers/postprocessing.py:59: FutureWarning: errors='ignore' is deprecated and will raise in a future version. Use to_datetime without passing `errors` and catch exceptions explicitly instead\n",
      "  data_copy[column] = data_copy[column].apply(pd.to_datetime, errors='ignore', format=date_format)\n",
      "/Users/ericclaflin/dev/curves/venv/lib/python3.9/site-packages/pybaseball/datahelpers/postprocessing.py:59: FutureWarning: errors='ignore' is deprecated and will raise in a future version. Use to_datetime without passing `errors` and catch exceptions explicitly instead\n",
      "  data_copy[column] = data_copy[column].apply(pd.to_datetime, errors='ignore', format=date_format)\n",
      "/Users/ericclaflin/dev/curves/venv/lib/python3.9/site-packages/pybaseball/datahelpers/postprocessing.py:59: FutureWarning: errors='ignore' is deprecated and will raise in a future version. Use to_datetime without passing `errors` and catch exceptions explicitly instead\n",
      "  data_copy[column] = data_copy[column].apply(pd.to_datetime, errors='ignore', format=date_format)\n",
      "/Users/ericclaflin/dev/curves/venv/lib/python3.9/site-packages/pybaseball/datahelpers/postprocessing.py:59: FutureWarning: errors='ignore' is deprecated and will raise in a future version. Use to_datetime without passing `errors` and catch exceptions explicitly instead\n",
      "  data_copy[column] = data_copy[column].apply(pd.to_datetime, errors='ignore', format=date_format)\n",
      "100%|██████████| 4/4 [00:03<00:00,  1.22it/s]\n",
      "/Users/ericclaflin/dev/curves/venv/lib/python3.9/site-packages/pybaseball/statcast.py:85: FutureWarning: The behavior of DataFrame concatenation with empty or all-NA entries is deprecated. In a future version, this will no longer exclude empty or all-NA columns when determining the result dtypes. To retain the old behavior, exclude the relevant entries before the concat operation.\n",
      "  final_data = pd.concat(dataframe_list, axis=0).convert_dtypes(convert_string=False)\n"
     ]
    },
    {
     "data": {
      "text/plain": [
       "     pitch_type  game_date  release_speed  release_pos_x  release_pos_z  \\\n",
       "3577         FF 2024-06-23           96.5           3.98            5.7   \n",
       "3691         FF 2024-06-23           95.6           4.11           5.72   \n",
       "3780         FF 2024-06-23           94.8           3.87           5.84   \n",
       "2578         FC 2024-06-23           86.4          -2.07           5.74   \n",
       "2638         FF 2024-06-23           94.6          -2.11           5.64   \n",
       "\n",
       "        player_name  batter  pitcher     events      description  ...  \\\n",
       "3577  Diekman, Jake  621550   518617  strikeout    called_strike  ...   \n",
       "3691  Diekman, Jake  621550   518617        NaN  swinging_strike  ...   \n",
       "3780  Diekman, Jake  621550   518617        NaN    called_strike  ...   \n",
       "2578    Smith, Drew  621020   622098     single    hit_into_play  ...   \n",
       "2638    Smith, Drew  621020   622098        NaN             foul  ...   \n",
       "\n",
       "      post_home_score  post_bat_score  post_fld_score  if_fielding_alignment  \\\n",
       "3577                2               2               5               Standard   \n",
       "3691                2               2               5               Standard   \n",
       "3780                2               2               5              Strategic   \n",
       "2578                2               2               5               Standard   \n",
       "2638                2               2               5               Standard   \n",
       "\n",
       "      of_fielding_alignment spin_axis delta_home_win_exp delta_run_exp  \\\n",
       "3577               Standard       114             -0.014        -0.139   \n",
       "3691               Standard       112                0.0        -0.046   \n",
       "3780               Standard       119                0.0        -0.041   \n",
       "2578               Standard       149              0.009         0.159   \n",
       "2638               Standard       214                0.0           0.0   \n",
       "\n",
       "      bat_speed swing_length  \n",
       "3577       <NA>         <NA>  \n",
       "3691  41.104372      6.27007  \n",
       "3780       <NA>         <NA>  \n",
       "2578   69.84708      6.69749  \n",
       "2638  69.515685      6.83738  \n",
       "\n",
       "[5 rows x 94 columns]"
      ],
      "text/html": [
       "<div>\n",
       "<style scoped>\n",
       "    .dataframe tbody tr th:only-of-type {\n",
       "        vertical-align: middle;\n",
       "    }\n",
       "\n",
       "    .dataframe tbody tr th {\n",
       "        vertical-align: top;\n",
       "    }\n",
       "\n",
       "    .dataframe thead th {\n",
       "        text-align: right;\n",
       "    }\n",
       "</style>\n",
       "<table border=\"1\" class=\"dataframe\">\n",
       "  <thead>\n",
       "    <tr style=\"text-align: right;\">\n",
       "      <th></th>\n",
       "      <th>pitch_type</th>\n",
       "      <th>game_date</th>\n",
       "      <th>release_speed</th>\n",
       "      <th>release_pos_x</th>\n",
       "      <th>release_pos_z</th>\n",
       "      <th>player_name</th>\n",
       "      <th>batter</th>\n",
       "      <th>pitcher</th>\n",
       "      <th>events</th>\n",
       "      <th>description</th>\n",
       "      <th>...</th>\n",
       "      <th>post_home_score</th>\n",
       "      <th>post_bat_score</th>\n",
       "      <th>post_fld_score</th>\n",
       "      <th>if_fielding_alignment</th>\n",
       "      <th>of_fielding_alignment</th>\n",
       "      <th>spin_axis</th>\n",
       "      <th>delta_home_win_exp</th>\n",
       "      <th>delta_run_exp</th>\n",
       "      <th>bat_speed</th>\n",
       "      <th>swing_length</th>\n",
       "    </tr>\n",
       "  </thead>\n",
       "  <tbody>\n",
       "    <tr>\n",
       "      <th>3577</th>\n",
       "      <td>FF</td>\n",
       "      <td>2024-06-23</td>\n",
       "      <td>96.5</td>\n",
       "      <td>3.98</td>\n",
       "      <td>5.7</td>\n",
       "      <td>Diekman, Jake</td>\n",
       "      <td>621550</td>\n",
       "      <td>518617</td>\n",
       "      <td>strikeout</td>\n",
       "      <td>called_strike</td>\n",
       "      <td>...</td>\n",
       "      <td>2</td>\n",
       "      <td>2</td>\n",
       "      <td>5</td>\n",
       "      <td>Standard</td>\n",
       "      <td>Standard</td>\n",
       "      <td>114</td>\n",
       "      <td>-0.014</td>\n",
       "      <td>-0.139</td>\n",
       "      <td>&lt;NA&gt;</td>\n",
       "      <td>&lt;NA&gt;</td>\n",
       "    </tr>\n",
       "    <tr>\n",
       "      <th>3691</th>\n",
       "      <td>FF</td>\n",
       "      <td>2024-06-23</td>\n",
       "      <td>95.6</td>\n",
       "      <td>4.11</td>\n",
       "      <td>5.72</td>\n",
       "      <td>Diekman, Jake</td>\n",
       "      <td>621550</td>\n",
       "      <td>518617</td>\n",
       "      <td>NaN</td>\n",
       "      <td>swinging_strike</td>\n",
       "      <td>...</td>\n",
       "      <td>2</td>\n",
       "      <td>2</td>\n",
       "      <td>5</td>\n",
       "      <td>Standard</td>\n",
       "      <td>Standard</td>\n",
       "      <td>112</td>\n",
       "      <td>0.0</td>\n",
       "      <td>-0.046</td>\n",
       "      <td>41.104372</td>\n",
       "      <td>6.27007</td>\n",
       "    </tr>\n",
       "    <tr>\n",
       "      <th>3780</th>\n",
       "      <td>FF</td>\n",
       "      <td>2024-06-23</td>\n",
       "      <td>94.8</td>\n",
       "      <td>3.87</td>\n",
       "      <td>5.84</td>\n",
       "      <td>Diekman, Jake</td>\n",
       "      <td>621550</td>\n",
       "      <td>518617</td>\n",
       "      <td>NaN</td>\n",
       "      <td>called_strike</td>\n",
       "      <td>...</td>\n",
       "      <td>2</td>\n",
       "      <td>2</td>\n",
       "      <td>5</td>\n",
       "      <td>Strategic</td>\n",
       "      <td>Standard</td>\n",
       "      <td>119</td>\n",
       "      <td>0.0</td>\n",
       "      <td>-0.041</td>\n",
       "      <td>&lt;NA&gt;</td>\n",
       "      <td>&lt;NA&gt;</td>\n",
       "    </tr>\n",
       "    <tr>\n",
       "      <th>2578</th>\n",
       "      <td>FC</td>\n",
       "      <td>2024-06-23</td>\n",
       "      <td>86.4</td>\n",
       "      <td>-2.07</td>\n",
       "      <td>5.74</td>\n",
       "      <td>Smith, Drew</td>\n",
       "      <td>621020</td>\n",
       "      <td>622098</td>\n",
       "      <td>single</td>\n",
       "      <td>hit_into_play</td>\n",
       "      <td>...</td>\n",
       "      <td>2</td>\n",
       "      <td>2</td>\n",
       "      <td>5</td>\n",
       "      <td>Standard</td>\n",
       "      <td>Standard</td>\n",
       "      <td>149</td>\n",
       "      <td>0.009</td>\n",
       "      <td>0.159</td>\n",
       "      <td>69.84708</td>\n",
       "      <td>6.69749</td>\n",
       "    </tr>\n",
       "    <tr>\n",
       "      <th>2638</th>\n",
       "      <td>FF</td>\n",
       "      <td>2024-06-23</td>\n",
       "      <td>94.6</td>\n",
       "      <td>-2.11</td>\n",
       "      <td>5.64</td>\n",
       "      <td>Smith, Drew</td>\n",
       "      <td>621020</td>\n",
       "      <td>622098</td>\n",
       "      <td>NaN</td>\n",
       "      <td>foul</td>\n",
       "      <td>...</td>\n",
       "      <td>2</td>\n",
       "      <td>2</td>\n",
       "      <td>5</td>\n",
       "      <td>Standard</td>\n",
       "      <td>Standard</td>\n",
       "      <td>214</td>\n",
       "      <td>0.0</td>\n",
       "      <td>0.0</td>\n",
       "      <td>69.515685</td>\n",
       "      <td>6.83738</td>\n",
       "    </tr>\n",
       "  </tbody>\n",
       "</table>\n",
       "<p>5 rows × 94 columns</p>\n",
       "</div>"
      ]
     },
     "execution_count": 11,
     "metadata": {},
     "output_type": "execute_result"
    }
   ],
   "execution_count": 11
  },
  {
   "metadata": {
    "ExecuteTime": {
     "end_time": "2024-06-25T01:14:11.923101Z",
     "start_time": "2024-06-25T01:14:11.913983Z"
    }
   },
   "cell_type": "code",
   "source": [
    "# Confirm rough size of a single day (in season) - may help answer how we want to treat extract batch size\n",
    "data.shape"
   ],
   "id": "4a1d5857b238031",
   "outputs": [
    {
     "data": {
      "text/plain": [
       "(12077, 94)"
      ]
     },
     "execution_count": 8,
     "metadata": {},
     "output_type": "execute_result"
    }
   ],
   "execution_count": 8
  },
  {
   "metadata": {},
   "cell_type": "markdown",
   "source": [
    "121k rows over a weekend in-season non-holiday should tell us that a single day is roughly 40k records\n",
    "\n",
    "##### Approach\n",
    "\n",
    "Create a pycharm class for statcast_day object, including:\n",
    "- An init method that creates the object and retrievers the resultset\n",
    "- pydantic data validation/construction\n"
   ],
   "id": "870573d956dcb191"
  },
  {
   "metadata": {},
   "cell_type": "markdown",
   "source": [
    "First create a function that retrieves a dataframe for a given day\n",
    "\n",
    "> [!NOTE]\n",
    "> Refer to this [gist](https://gist.github.com/eclaflin/6857c074f949833d87aac1390f637cfc) to come back to adding logging"
   ],
   "id": "2298ebe85c90b997"
  },
  {
   "metadata": {
    "ExecuteTime": {
     "end_time": "2024-06-25T01:55:15.740426Z",
     "start_time": "2024-06-25T01:55:14.242573Z"
    }
   },
   "cell_type": "code",
   "source": [
    "\n",
    "from pydantic import BaseModel, field_validator\n",
    "from datetime import datetime\n",
    "from typing import Any\n",
    "import pandas as pd\n",
    "\n",
    "class DateValidator(BaseModel):\n",
    "    query_date: str\n",
    "\n",
    "    @field_validator('query_date')\n",
    "    @classmethod\n",
    "    def validate_date_format(cls, value):\n",
    "        try:\n",
    "            datetime.strptime(value, '%Y-%m-%d')\n",
    "        except ValueError:\n",
    "            raise ValueError(f'{value} is not a valid date in the format YYYY-MM-DD')\n",
    "        return value\n",
    "\n",
    "def get_statcast_pitch_day(query_date: str) -> pd.DataFrame:\n",
    "    # Validate the date string\n",
    "    DateValidator(query_date=query_date)\n",
    "    \n",
    "    df_statcast_pitch_day = statcast(\n",
    "        start_dt=query_date\n",
    "    )\n",
    "    \n",
    "    return df_statcast_pitch_day\n",
    "\n",
    "\n",
    "data = get_statcast_pitch_day('2024-06-21')"
   ],
   "id": "b9a6adf89b27682",
   "outputs": [
    {
     "name": "stdout",
     "output_type": "stream",
     "text": [
      "This is a large query, it may take a moment to complete\n"
     ]
    },
    {
     "name": "stderr",
     "output_type": "stream",
     "text": [
      "  0%|          | 0/1 [00:00<?, ?it/s]/Users/ericclaflin/dev/curves/venv/lib/python3.9/site-packages/pybaseball/datahelpers/postprocessing.py:59: FutureWarning: errors='ignore' is deprecated and will raise in a future version. Use to_datetime without passing `errors` and catch exceptions explicitly instead\n",
      "  data_copy[column] = data_copy[column].apply(pd.to_datetime, errors='ignore', format=date_format)\n",
      "100%|██████████| 1/1 [00:01<00:00,  1.32s/it]\n"
     ]
    }
   ],
   "execution_count": 20
  },
  {
   "metadata": {},
   "cell_type": "markdown",
   "source": [
    "Second\n",
    "\n",
    "Create pydantic class to represent the dataframe"
   ],
   "id": "443bec8f5fdd867"
  },
  {
   "metadata": {},
   "cell_type": "code",
   "outputs": [],
   "execution_count": null,
   "source": "",
   "id": "5054e387c6846423"
  },
  {
   "metadata": {},
   "cell_type": "markdown",
   "source": [
    "### 2. Load Play-by-Play Data Into Postgres\n",
    "\n",
    "- Accept play-by-play data as an input\n",
    "- Append records to raw table in target\n"
   ],
   "id": "791c96d08e4620ca"
  },
  {
   "metadata": {},
   "cell_type": "markdown",
   "source": "### 3. Init dbt Project Targeting Postgres\n",
   "id": "9dc8024c8f5c02dd"
  },
  {
   "metadata": {},
   "cell_type": "markdown",
   "source": "",
   "id": "8347c45984abc6de"
  }
 ],
 "metadata": {
  "kernelspec": {
   "display_name": "Python 3",
   "language": "python",
   "name": "python3"
  },
  "language_info": {
   "codemirror_mode": {
    "name": "ipython",
    "version": 2
   },
   "file_extension": ".py",
   "mimetype": "text/x-python",
   "name": "python",
   "nbconvert_exporter": "python",
   "pygments_lexer": "ipython2",
   "version": "2.7.6"
  }
 },
 "nbformat": 4,
 "nbformat_minor": 5
}
